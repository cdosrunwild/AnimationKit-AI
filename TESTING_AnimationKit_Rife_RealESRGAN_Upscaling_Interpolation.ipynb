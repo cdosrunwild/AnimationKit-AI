{
  "nbformat": 4,
  "nbformat_minor": 0,
  "metadata": {
    "colab": {
      "name": "AnimationKit_Rife-RealESRGAN_Upscaling-Interpolation",
      "provenance": [],
      "collapsed_sections": [],
      "include_colab_link": true
    },
    "kernelspec": {
      "name": "python3",
      "display_name": "Python 3"
    },
    "language_info": {
      "name": "python"
    },
    "accelerator": "GPU"
  },
  "cells": [
    {
      "cell_type": "markdown",
      "metadata": {
        "id": "view-in-github",
        "colab_type": "text"
      },
      "source": [
        "<a href=\"https://colab.research.google.com/github/sadnow/AnimationKit-AI_Upscaling-Interpolation_RIFE-RealESRGAN/blob/testing/TESTING_AnimationKit_Rife_RealESRGAN_Upscaling_Interpolation.ipynb\" target=\"_parent\"><img src=\"https://colab.research.google.com/assets/colab-badge.svg\" alt=\"Open In Colab\"/></a>"
      ]
    },
    {
      "cell_type": "markdown",
      "metadata": {
        "id": "CppIQlPhhwhs"
      },
      "source": [
        "# AnimationKit AI - Upscaling & Interpolation using Real-ESRGAN+RIFE\n",
        "\n",
        "***WARNING: THIS IS THE TESTING BRANCH. CHECK OUT MAIN FOR MORE STABILITY***\n",
        "\n",
        "Credits: Motion smoothing conceived from \"Zoom animation processing and motion interpolation\" added by https://twitter.com/unltd_dream_co. This part of the script uses [RIFE real-time video interpolation](https://github.com/hzwer/arXiv2020-RIFE) to smooth out the resulting video. \n",
        "\n",
        "Upscaling uses Real-ESRGAN (https://github.com/xinntao/Real-ESRGAN). A demo notebook for static images can be found here: https://colab.research.google.com/drive/1k2Zod6kSHEvraybHl50Lys0LerhyTMCo?usp=sharing. The demo was based on the following paper: of our paper [''Real-ESRGAN: Training Real-World Blind Super-Resolution with Pure Synthetic Data''](https://arxiv.org/abs/2107.10833).\n",
        "\n",
        "<img src=\"https://raw.githubusercontent.com/xinntao/Real-ESRGAN/master/assets/teaser.jpg\" width=\"100%\">\n",
        "\n",
        "Special thanks to @sportsracer48 and everyone on his Discord. If you want closed beta access to the best VQGAN animation notebook on the planet, check out https://www.patreon.com/sportsracer48\n",
        "\n",
        "---\n",
        "\n",
        "Testing notes:\n",
        "\n",
        "Many ffmpeg examples at https://docs.google.com/document/d/12X_2YoCnPPN7B3OsgX39aYyRF8OF-TVStkFTkKhWrx4/edit\n",
        "\n",
        "Python modules in Colab: https://medium.com/analytics-vidhya/importing-your-own-python-module-or-python-file-into-colab-3e365f0a35ec\n",
        "\n",
        "Colab Markdown guide: https://colab.research.google.com/notebooks/markdown_guide.ipynb?hl=es-ni#scrollTo=Lhfnlq1Surtk\n",
        "\n",
        "---\n",
        "\n",
        "-[] Split everything into modules\n",
        "\n",
        "-[] Add blending commands"
      ]
    },
    {
      "cell_type": "code",
      "metadata": {
        "id": "VA1PHoJrRiK9",
        "cellView": "form"
      },
      "source": [
        "# @title Licensed under the MIT License\n",
        "\n",
        "# Copyright (c) 2021 Katherine Crowson\n",
        "\n",
        "# Permission is hereby granted, free of charge, to any person obtaining a copy\n",
        "# of this software and associated documentation files (the \"Software\"), to deal\n",
        "# in the Software without restriction, including without limitation the rights\n",
        "# to use, copy, modify, merge, publish, distribute, sublicense, and/or sell\n",
        "# copies of the Software, and to permit persons to whom the Software is\n",
        "# furnished to do so, subject to the following conditions:\n",
        "\n",
        "# The above copyright notice and this permission notice shall be included in\n",
        "# all copies or substantial portions of the Software.\n",
        "\n",
        "# THE SOFTWARE IS PROVIDED \"AS IS\", WITHOUT WARRANTY OF ANY KIND, EXPRESS OR\n",
        "# IMPLIED, INCLUDING BUT NOT LIMITED TO THE WARRANTIES OF MERCHANTABILITY,\n",
        "# FITNESS FOR A PARTICULAR PURPOSE AND NONINFRINGEMENT. IN NO EVENT SHALL THE\n",
        "# AUTHORS OR COPYRIGHT HOLDERS BE LIABLE FOR ANY CLAIM, DAMAGES OR OTHER\n",
        "# LIABILITY, WHETHER IN AN ACTION OF CONTRACT, TORT OR OTHERWISE, ARISING FROM,\n",
        "# OUT OF OR IN CONNECTION WITH THE SOFTWARE OR THE USE OR OTHER DEALINGS IN\n",
        "# THE SOFTWARE."
      ],
      "execution_count": null,
      "outputs": []
    },
    {
      "cell_type": "code",
      "metadata": {
        "id": "yDn13MTGIDVt"
      },
      "source": [
        "!nvidia-smi"
      ],
      "execution_count": null,
      "outputs": []
    },
    {
      "cell_type": "markdown",
      "metadata": {
        "id": "xNsqYx5tEBo5"
      },
      "source": [
        "# P1: Mount Google Drive & Install Libraries"
      ]
    },
    {
      "cell_type": "code",
      "metadata": {
        "id": "4hULXQndE4xk"
      },
      "source": [
        "#I'm leaving these outside AnimationKit.py for transparency\n",
        "\n",
        "def installPhase():\n",
        "  %cd /content/\n",
        "  installESRGAN()\n",
        "  %cd /content/\n",
        "  installRIFE()\n",
        "  #!pip install ffmpeg-python\n",
        "  %cd /content/\n",
        "###\n",
        "\n",
        "def installESRGAN():\n",
        "  print(\"Installing libraries for Real-ESRGAN upscaling.\")\n",
        "  !git clone https://github.com/xinntao/Real-ESRGAN.git\n",
        "  %cd Real-ESRGAN\n",
        "  !pip install basicsr\n",
        "  !pip install facexlib\n",
        "  !pip install gfpgan\n",
        "  !pip install -r requirements.txt\n",
        "  !python setup.py develop\n",
        "  # Download the pre-trained model(s)\n",
        "  !wget https://github.com/xinntao/Real-ESRGAN/releases/download/v0.1.0/RealESRGAN_x4plus.pth -P experiments/pretrained_models\n",
        "  !wget https://github.com/xinntao/Real-ESRGAN/releases/download/v0.2.2.4/RealESRGAN_x4plus_anime_6B.pth -P experiments/pretrained_models\n",
        "  !wget https://github.com/xinntao/Real-ESRGAN/releases/download/v0.2.1/RealESRGAN_x2plus.pth -P experiments/pretrained_models\n",
        "  print(\"Finished Installing libraries for Real-ESRGAN upscaling.\")\n",
        "###\n",
        "\n",
        "def installRIFE():\n",
        "  print(\"Installing libraries for RIFE motion smoothing.\")\n",
        "  !git clone https://github.com/hzwer/arXiv2020-RIFE RIFE\n",
        "  !gdown --id 1wsQIhHZ3Eg4_AfCXItFKqqyDMB4NS0Yd\n",
        "  !7z e RIFE_trained_model_HDv2.zip\n",
        "  !mkdir /content/RIFE/train_log\n",
        "  !mv *.pkl /content/RIFE/train_log/\n",
        "  %cd /content/RIFE/\n",
        "  !gdown --id 1i3xlKb7ax7Y70khcTcuePi6E7crO_dFc\n",
        "  !pip3 install -r requirements.txt\n",
        "  print(\"Done.\")\n",
        "  print(\"Finsihed Installing libraries for RIFE motion smoothing.\")\n",
        "###\n",
        "##\n",
        "#\n",
        "\n",
        "'''MARKDOWN\n",
        "#If RIFE (P2) stops for no reason, go to Runtime>Change Runtime type and set the notebook to \"high memory\"\n",
        "'''\n",
        "\n",
        "#Params\n",
        "mount_google_drive = True #@param {type:\"boolean\"}\n",
        "\n",
        "#Mount Google Drive\n",
        "if mount_google_drive:\n",
        "  from google.colab import drive\n",
        "  drive.mount('/content/drive')\n",
        "\n",
        "#install dependencies\n",
        "installPhase()"
      ],
      "execution_count": null,
      "outputs": []
    },
    {
      "cell_type": "code",
      "metadata": {
        "colab": {
          "base_uri": "https://localhost:8080/"
        },
        "id": "-Jywhkx1rH3D",
        "outputId": "b34ea8de-9e14-4df7-f2cd-1fe09ec6e717"
      },
      "source": [
        ""
      ],
      "execution_count": 9,
      "outputs": [
        {
          "output_type": "stream",
          "name": "stdout",
          "text": [
            "fatal: not a git repository (or any of the parent directories): .git\n"
          ]
        }
      ]
    },
    {
      "cell_type": "markdown",
      "metadata": {
        "id": "KV9nAUYYVFJ6"
      },
      "source": [
        "# P2: Real-ESRGAN Video Upscaling (Extremely Experimental)\n",
        "\n",
        "Planned additions: Option to compile from frames; Deflickering"
      ]
    },
    {
      "cell_type": "code",
      "metadata": {
        "id": "1btstt8EU-wQ",
        "colab": {
          "base_uri": "https://localhost:8080/"
        },
        "outputId": "7b820bcf-4eed-432c-fb8c-2fd865889e22"
      },
      "source": [
        "import os, sys, re\n",
        "\n",
        "def splitFrames():\n",
        "  #Extract Individual frames\n",
        "  output_file_path = re.search(\"^[\\/].+\\/\", input_path_mp4)\n",
        "  output_file_path_raw = output_file_path.group(0)\n",
        "  delsplit = re.search(\"\\/(?:.(?!\\/))+$\", input_path_mp4)\n",
        "  filename = re.sub(\"^[\\/]\", \"\", delsplit.group(0))\n",
        "  filename_raw = re.sub(\".{4}$\", \"\", filename)\n",
        "  file_extension = re.search(\".{3}$\", filename)\n",
        "  file_extension_raw = file_extension.group(0)\n",
        "  os.environ['inputFile'] = input_path_mp4\n",
        "  os.environ['outputPath'] = output_file_path_raw\n",
        "  #os.environ['startTime'] = start_time\n",
        "  #os.environ['endTime'] = end_time\n",
        "  os.environ['frameRate'] = target_fps\n",
        "  os.environ['fileName'] = filename_raw\n",
        "  os.environ['fileExtension'] = file_extension_raw\n",
        "  #ffmpeg\n",
        "  !ffmpeg -hide_banner -i \"$inputFile\" -vsync 0 $frames_dropbox/frame%04d.png\n",
        "  #!ffmpeg -hide_banner -i \"$inputFile\" -r \"$frameRate\"/1 \"/content/Real-ESRGAN/upload\"/frame%04d.png\n",
        "###\n",
        "\n",
        "def runUpscale():\n",
        "  #upload images\n",
        "  import os\n",
        "  from google.colab import files\n",
        "  import shutil\n",
        "  %cd /content/Real-ESRGAN/\n",
        "  upload_folder = 'upload'\n",
        "  result_folder = 'results'\n",
        "#  if os.path.isdir(upload_folder):\n",
        "#      shutil.rmtree(upload_folder)\n",
        "#  if os.path.isdir(result_folder):\n",
        "#      shutil.rmtree(result_folder)\n",
        "#  os.mkdir(upload_folder)\n",
        "#  os.mkdir(result_folder)\n",
        "  #run upscaler\n",
        "  #!python inference_realesrgan.py --model_path experiments/pretrained_models/RealESRGAN_x4plus.pth --input upload --netscale $scale_value --outscale $scale_value --half --face_enhance\n",
        "  !python /content/Real-ESRGAN/inference_realesrgan.py --model_path $model_path_value --netscale $scale_value --input $frames_dropbox\n",
        "###\n",
        "\n",
        "def rebuildFrames():\n",
        "  #re-encode video from frames\n",
        "  #results = '/content/Real-ESRGAN/results'\n",
        "  #!ffmpeg -r 1/5 -pattern_type glob -i '*.png' -c:v libx264 /content/output.mp4   # x264 video\n",
        "  %cd /content/Real-ESRGAN/upload\n",
        "  !ffmpeg -r $target_fps -pattern_type glob -i '*.png' -c:v libx264 $output_path_mp4   # x264 video\n",
        "###\n",
        "##\n",
        "#\n",
        "\n",
        "###PARAMS\n",
        "#frame_rate = \"23.976\" #@param {type:\"string\"}\n",
        "#start_time = \"00:00:00.000\"\n",
        "#end_time = \"00:00:05.000\" #@param {type:\"string\"}\n",
        "#@markdown #Input settings\n",
        "extract_video_file = False #@param {type:\"boolean\"}\n",
        "input_path_mp4='/content/drive/MyDrive/VQLIPSE/videos/dedz.mp4' #@param {type:\"string\"}\n",
        "individual_frames_path='/content/drive/MyDrive/VQLIPSE/images_out/dedz' #@param {type:\"string\"}\n",
        "#@markdown If you checkboxed `extract_video_file`, `individual_frames_path` will be ignored (and vice-versa).\n",
        "#@markdown\n",
        "#@markdown ---\n",
        "output_path_mp4='/content/drive/MyDrive/VQLIPSE/videos/dedz_akit.mp4' #@param {type:\"string\"}\n",
        "target_fps='60'#@param {type:\"string\"}\n",
        "model_path_value='/content/Real-ESRGAN/experiments/pretrained_models/RealESRGAN_x4plus_anime_6B.pth' #@param ['/content/Real-ESRGAN/experiments/pretrained_models/RealESRGAN_x4plus_anime_6B.pth','/content/Real-ESRGAN/experiments/pretrained_models/RealESRGAN_x4plus.pth','/content/Real-ESRGAN/experiments/pretrained_models/RealESRGAN_x2plus.pth'] {type:\"string\"}\n",
        "scale_value=\"4\" #@param [2, 4] {type:\"string\"}\n",
        "\n",
        "#@markdown `scale_value` should match the model name, eg 4xplus would use scale value of 4\n",
        "#@markdown Run RIFE below to fill in empty or duplicate frames. (Double, quadruple etc the length of your video)\n",
        "\n",
        "\n",
        "\n",
        "#\n",
        "%cd /content/\n",
        "print(\"Cleaning up from last run...\")\n",
        "!rm -rf \"/content/Real-ESRGAN/results\"\n",
        "!rm -rf \"/content/Real-ESRGAN/upload\"\n",
        "!mkdir \"/content/Real-ESRGAN/results\"\n",
        "!mkdir \"/content/Real-ESRGAN/upload\"\n",
        "\n",
        "#handling of individual frames checkbox\n",
        "frames_dropbox = \"/content/Real-ESRGAN/upload\"\n",
        "if extract_video_file:\n",
        "  splitFrames() #converts video to individual png images\n",
        "else:\n",
        "  %cd $individual_frames_path\n",
        "  #!find -maxdepth 1 -iname '*.png' -exec cp {} /content/Real-ESRGAN/upload \\;\n",
        "  print(\"Copying frames to Real-ESRGAN/upload...\")\n",
        "  !find -maxdepth 1 -name '*.png' -print0 | xargs -0 cp -t $frames_dropbox\n",
        "#\n",
        "%cd /content/\n",
        "runUpscale()\n",
        "rebuildFrames()\n"
      ],
      "execution_count": 71,
      "outputs": [
        {
          "output_type": "stream",
          "name": "stdout",
          "text": [
            "/content\n",
            "Cleaning up from last run...\n",
            "/content/drive/MyDrive/VQLIPSE/images_out/dedz\n",
            "Copying frames to Real-ESRGAN/upload...\n",
            "/content\n",
            "/content/Real-ESRGAN\n",
            "Testing 0 out_1\n",
            "Testing 1 out_10\n",
            "Testing 2 out_11\n",
            "Testing 3 out_12\n",
            "Testing 4 out_13\n",
            "Testing 5 out_14\n",
            "Testing 6 out_15\n",
            "Testing 7 out_16\n",
            "Testing 8 out_17\n",
            "Testing 9 out_18\n",
            "Testing 10 out_19\n",
            "Testing 11 out_2\n",
            "Testing 12 out_20\n",
            "Testing 13 out_21\n",
            "Testing 14 out_22\n",
            "Testing 15 out_23\n",
            "Testing 16 out_24\n",
            "Testing 17 out_25\n",
            "Testing 18 out_26\n",
            "Testing 19 out_27\n",
            "Testing 20 out_28\n",
            "Testing 21 out_29\n",
            "Testing 22 out_3\n",
            "Testing 23 out_30\n",
            "Testing 24 out_31\n",
            "Testing 25 out_32\n",
            "Testing 26 out_33\n",
            "Testing 27 out_34\n",
            "Testing 28 out_35\n",
            "Testing 29 out_36\n",
            "Testing 30 out_37\n",
            "Testing 31 out_38\n",
            "Testing 32 out_39\n",
            "Testing 33 out_4\n",
            "Testing 34 out_40\n",
            "Testing 35 out_5\n",
            "Testing 36 out_6\n",
            "Testing 37 out_7\n",
            "Testing 38 out_8\n",
            "Testing 39 out_9\n",
            "/content/Real-ESRGAN/upload\n",
            "ffmpeg version 3.4.8-0ubuntu0.2 Copyright (c) 2000-2020 the FFmpeg developers\n",
            "  built with gcc 7 (Ubuntu 7.5.0-3ubuntu1~18.04)\n",
            "  configuration: --prefix=/usr --extra-version=0ubuntu0.2 --toolchain=hardened --libdir=/usr/lib/x86_64-linux-gnu --incdir=/usr/include/x86_64-linux-gnu --enable-gpl --disable-stripping --enable-avresample --enable-avisynth --enable-gnutls --enable-ladspa --enable-libass --enable-libbluray --enable-libbs2b --enable-libcaca --enable-libcdio --enable-libflite --enable-libfontconfig --enable-libfreetype --enable-libfribidi --enable-libgme --enable-libgsm --enable-libmp3lame --enable-libmysofa --enable-libopenjpeg --enable-libopenmpt --enable-libopus --enable-libpulse --enable-librubberband --enable-librsvg --enable-libshine --enable-libsnappy --enable-libsoxr --enable-libspeex --enable-libssh --enable-libtheora --enable-libtwolame --enable-libvorbis --enable-libvpx --enable-libwavpack --enable-libwebp --enable-libx265 --enable-libxml2 --enable-libxvid --enable-libzmq --enable-libzvbi --enable-omx --enable-openal --enable-opengl --enable-sdl2 --enable-libdc1394 --enable-libdrm --enable-libiec61883 --enable-chromaprint --enable-frei0r --enable-libopencv --enable-libx264 --enable-shared\n",
            "  libavutil      55. 78.100 / 55. 78.100\n",
            "  libavcodec     57.107.100 / 57.107.100\n",
            "  libavformat    57. 83.100 / 57. 83.100\n",
            "  libavdevice    57. 10.100 / 57. 10.100\n",
            "  libavfilter     6.107.100 /  6.107.100\n",
            "  libavresample   3.  7.  0 /  3.  7.  0\n",
            "  libswscale      4.  8.100 /  4.  8.100\n",
            "  libswresample   2.  9.100 /  2.  9.100\n",
            "  libpostproc    54.  7.100 / 54.  7.100\n",
            "Input #0, image2, from '*.png':\n",
            "  Duration: 00:00:01.60, start: 0.000000, bitrate: N/A\n",
            "    Stream #0:0: Video: png, rgb24(pc), 512x512, 25 fps, 25 tbr, 25 tbn, 25 tbc\n",
            "File '/content/drive/MyDrive/VQLIPSE/videos/dedz_akit.mp4' already exists. Overwrite ? [y/N] y\n",
            "Stream mapping:\n",
            "  Stream #0:0 -> #0:0 (png (native) -> h264 (libx264))\n",
            "Press [q] to stop, [?] for help\n",
            "\u001b[1;36m[libx264 @ 0x5653d8381e00] \u001b[0musing cpu capabilities: MMX2 SSE2Fast SSSE3 SSE4.2 AVX FMA3 BMI2 AVX2\n",
            "\u001b[1;36m[libx264 @ 0x5653d8381e00] \u001b[0mprofile High 4:4:4 Predictive, level 3.1, 4:4:4 8-bit\n",
            "\u001b[1;36m[libx264 @ 0x5653d8381e00] \u001b[0m264 - core 152 r2854 e9a5903 - H.264/MPEG-4 AVC codec - Copyleft 2003-2017 - http://www.videolan.org/x264.html - options: cabac=1 ref=3 deblock=1:0:0 analyse=0x1:0x111 me=hex subme=7 psy=1 psy_rd=1.00:0.00 mixed_ref=1 me_range=16 chroma_me=1 trellis=1 8x8dct=0 cqm=0 deadzone=21,11 fast_pskip=1 chroma_qp_offset=4 threads=3 lookahead_threads=1 sliced_threads=0 nr=0 decimate=1 interlaced=0 bluray_compat=0 constrained_intra=0 bframes=3 b_pyramid=2 b_adapt=1 b_bias=0 direct=1 weightb=1 open_gop=0 weightp=2 keyint=250 keyint_min=25 scenecut=40 intra_refresh=0 rc_lookahead=40 rc=crf mbtree=1 crf=23.0 qcomp=0.60 qpmin=0 qpmax=69 qpstep=4 ip_ratio=1.40 aq=1:1.00\n",
            "Output #0, mp4, to '/content/drive/MyDrive/VQLIPSE/videos/dedz_akit.mp4':\n",
            "  Metadata:\n",
            "    encoder         : Lavf57.83.100\n",
            "    Stream #0:0: Video: h264 (libx264) (avc1 / 0x31637661), yuv444p, 512x512, q=-1--1, 60 fps, 15360 tbn, 60 tbc\n",
            "    Metadata:\n",
            "      encoder         : Lavc57.107.100 libx264\n",
            "    Side data:\n",
            "      cpb: bitrate max/min/avg: 0/0/0 buffer size: 0 vbv_delay: -1\n",
            "\u001b[0;33mPast duration 0.999992 too large\n",
            "    Last message repeated 38 times\n",
            "frame=   41 fps= 28 q=-1.0 Lsize=     623kB time=00:00:00.63 bitrate=8061.3kbits/s dup=1 drop=0 speed=0.429x    \n",
            "video:622kB audio:0kB subtitle:0kB other streams:0kB global headers:0kB muxing overhead: 0.205198%\n",
            "\u001b[1;36m[libx264 @ 0x5653d8381e00] \u001b[0mframe I:2     Avg QP:30.06  size: 31759\n",
            "\u001b[1;36m[libx264 @ 0x5653d8381e00] \u001b[0mframe P:11    Avg QP:32.57  size: 17687\n",
            "\u001b[1;36m[libx264 @ 0x5653d8381e00] \u001b[0mframe B:28    Avg QP:33.13  size: 13507\n",
            "\u001b[1;36m[libx264 @ 0x5653d8381e00] \u001b[0mconsecutive B-frames:  4.9%  4.9% 22.0% 68.3%\n",
            "\u001b[1;36m[libx264 @ 0x5653d8381e00] \u001b[0mmb I  I16..4: 39.7%  0.0% 60.3%\n",
            "\u001b[1;36m[libx264 @ 0x5653d8381e00] \u001b[0mmb P  I16..4: 23.0%  0.0% 33.5%  P16..4: 20.5% 15.1%  6.9%  0.0%  0.0%    skip: 1.0%\n",
            "\u001b[1;36m[libx264 @ 0x5653d8381e00] \u001b[0mmb B  I16..4: 11.7%  0.0% 11.7%  B16..8: 32.3% 14.4%  4.8%  direct:13.0%  skip:12.1%  L0:44.6% L1:38.1% BI:17.3%\n",
            "\u001b[1;36m[libx264 @ 0x5653d8381e00] \u001b[0mcoded y,u,v intra: 60.2% 38.0% 40.0% inter: 39.6% 27.6% 28.4%\n",
            "\u001b[1;36m[libx264 @ 0x5653d8381e00] \u001b[0mi16 v,h,dc,p: 16% 24% 27% 33%\n",
            "\u001b[1;36m[libx264 @ 0x5653d8381e00] \u001b[0mi4 v,h,dc,ddl,ddr,vr,hd,vl,hu: 20% 18% 30%  4%  5%  7%  6%  4%  6%\n",
            "\u001b[1;36m[libx264 @ 0x5653d8381e00] \u001b[0mWeighted P-Frames: Y:27.3% UV:27.3%\n",
            "\u001b[1;36m[libx264 @ 0x5653d8381e00] \u001b[0mref P L0: 46.8% 14.1% 20.1% 14.2%  4.8%\n",
            "\u001b[1;36m[libx264 @ 0x5653d8381e00] \u001b[0mref B L0: 76.3% 19.3%  4.5%\n",
            "\u001b[1;36m[libx264 @ 0x5653d8381e00] \u001b[0mref B L1: 95.7%  4.3%\n",
            "\u001b[1;36m[libx264 @ 0x5653d8381e00] \u001b[0mkb/s:7448.89\n"
          ]
        }
      ]
    },
    {
      "cell_type": "markdown",
      "metadata": {
        "id": "kWROu0EAbY5z"
      },
      "source": [
        "# Motion interpolation (RIFE Smoothing)\n",
        "\n",
        "\"(...) (O)utput can be a bit wobbly, so video interpolation can be used to smooth things out a bit.\"\n",
        "\n",
        "Todo: So exp runs on 2^$exp. Do some math so people can enter their desired seconds. Have it round to the nearest.\n"
      ]
    },
    {
      "cell_type": "code",
      "metadata": {
        "id": "DjW8fRm6dQ08",
        "colab": {
          "base_uri": "https://localhost:8080/"
        },
        "outputId": "b4e7be82-44c6-430d-dc45-8ed359aac652"
      },
      "source": [
        "def detect_fps():\n",
        "  fps_ffprobe = !ffprobe -v error -select_streams v -of default=noprint_wrappers=1:nokey=1 -show_entries stream=avg_frame_rate $input_path\n",
        "  fps_unfinished = [str(i) for i in fps_ffprobe] # Converting integers into strings\n",
        "  fps_unfinishedTwo = str(\"\".join(fps_unfinished)) # Join the string values into one string\n",
        "  numbers = re.findall('[0-9]+', fps_unfinishedTwo)\n",
        "  newNum = numbers[0:1]\n",
        "  strings = [str(integer) for integer in newNum]\n",
        "  a_string = \"\".join(strings)\n",
        "  fps = int(a_string)\n",
        "  #print(\"Detected FPS is\",fps)\n",
        "  return fps\n",
        "#\n",
        "\n",
        "def detect_duration():\n",
        "  duration_ffprobe = !ffprobe -v error -select_streams v:0 -show_entries stream=duration -of default=noprint_wrappers=1:nokey=1 input.mp4\n",
        "  duration_unfinished = [str(i) for i in duration_ffprobe] # Converting integers into strings\n",
        "  duration_unfinishedTwo = str(\"\".join(duration_unfinished)) # Join the string values into one string\n",
        "  numbers = re.findall('[0-9]+', duration_unfinishedTwo)\n",
        "  newNum = numbers[0:1]\n",
        "  strings = [str(integer) for integer in newNum]\n",
        "  a_string = \"\".join(strings)\n",
        "  duration = int(a_string)\n",
        "  print(\"Detected duration INTEGER is\",duration)\n",
        "  return duration\n",
        "\n",
        "\n",
        "\n",
        "\n",
        "#exp_value = measured_fps * length_in_seconds\n",
        "\n",
        "\n",
        "\n",
        "\n",
        "\n",
        "\n",
        "%cd /content/RIFE/\n",
        "# @title Settings\n",
        "#input_path='/content/output.mp4' #@param {type:\"string\"}\n",
        "input_path='/content/drive/MyDrive/VQLIPSE/videos/dedz_akit.mp4' #@param {type:\"string\"}\n",
        "\n",
        "#autodetect fps\n",
        "\n",
        "\n",
        "target_fps=60#@param {type:\"integer\"}\n",
        "length_in_seconds=15#@param {type:\"integer\"}\n",
        "length_multiplier=3#@param {type:\"integer\"}\n",
        "#@markdown\n",
        "#@markdown `length_multiplier` might double, triple, or quadruple your video. Or square it? It's mysterious.\n",
        "#@markdown\n",
        "#@markdown ---\n",
        "#@markdown Note: Your output will look like `original_2x_60fps.mp4` and can be found in your `input_path`.\n",
        "#@markdown\n",
        "#@markdown Tip: Save as a high FPS (eg 999) if you plan on doing heavy editing (that way you don't need to re-process at the end.)\n",
        "\n",
        "\n",
        "measured_fps = detect_fps()\n",
        "print(\"Detected average FPS of\",input_path,\"is\",measured_fps)\n",
        "\n",
        "!python3 /content/RIFE/inference_video.py --fps=$target_fps --exp=$length_multiplier --video=$input_path\n",
        "%cd /content/"
      ],
      "execution_count": 176,
      "outputs": [
        {
          "output_type": "stream",
          "name": "stdout",
          "text": [
            "Detected average FPS of /content/drive/MyDrive/VQLIPSE/videos/dedz_akit.mp4 is 60\n",
            "/content/RIFE\n",
            "Loaded v2.x HD model.\n",
            "/content/drive/MyDrive/VQLIPSE/videos/dedz_akit.mp4, 41.0 frames in total, 60.0FPS to 60FPS\n",
            "Will not merge audio because using png, fps or skip flag!\n",
            "  2% 1/41.0 [00:00<00:36,  1.08it/s]Traceback (most recent call last):\n",
            "  File \"/content/RIFE/inference_video.py\", line 250, in <module>\n",
            "    mid = (((mid[0] * 255.).byte().cpu().numpy().transpose(1, 2, 0)))\n",
            "KeyboardInterrupt\n",
            "/content\n"
          ]
        }
      ]
    },
    {
      "cell_type": "code",
      "metadata": {
        "colab": {
          "base_uri": "https://localhost:8080/"
        },
        "id": "Eu5DhpE3kErA",
        "outputId": "00ef71ad-03d3-4924-a726-03be257ca1e5"
      },
      "source": [
        "\n",
        "\n",
        "\n",
        "\n",
        "\n",
        "\n",
        "\n",
        "#b = 5\n",
        "#newnum = duration_ffprobe + b\n"
      ],
      "execution_count": 196,
      "outputs": [
        {
          "output_type": "stream",
          "name": "stdout",
          "text": [
            "Detected duration INTEGER is 1\n"
          ]
        }
      ]
    },
    {
      "cell_type": "code",
      "metadata": {
        "id": "f6AWIuXOybUS"
      },
      "source": [
        "fps_ffprobe = !ffprobe -v error -select_streams v -of default=noprint_wrappers=1:nokey=1 -show_entries stream=avg_frame_rate $input_path\n",
        "\n",
        "strings = [str(integer) for integer in fps_ffprobe]\n",
        "a_string = \"\".join(strings)\n",
        "an_integer = int(a_string)\n",
        "\n",
        "print(an_integer)"
      ],
      "execution_count": null,
      "outputs": []
    },
    {
      "cell_type": "markdown",
      "metadata": {
        "id": "xEf2rinzX4Au"
      },
      "source": [
        "# x265 Conversion/Compression (Experimental, Very Fast)\n",
        "\n",
        "Sort of like Handbrake - good for large filesizes. Can turn 500mb files into 200mb files with negligable quality loss.\n",
        "\n",
        "**Note: You manually need to input your desired compress_path (sorry) - will update this in the future w/ a checkbox to automatically determine your outputted interpolated file.**\n",
        "\n",
        "Also, too high of compressions might require a decent local GPU to view. Will add h264 toggle in the future~"
      ]
    },
    {
      "cell_type": "code",
      "metadata": {
        "id": "mx62Rw1tasS7",
        "cellView": "form"
      },
      "source": [
        "compress_path='/content/drive/MyDrive/VQLIPSE/videos/dedz_akit_4X_360fps.mp4' #@param {type:\"string\"}\n",
        "outputStr = '_x265-converted.mp4'\n",
        "constant_quality=27#@param {type:\"slider\", min:20, max:50, step:1}\n",
        "\n",
        "\n",
        "#!ffmpeg -i $compress_path -vcodec hevc_nvenc -rc:v vbr_hq -cq $constant_quality $compress_path$outputStr -async 1 -vsync 1\n",
        "!ffmpeg -i $compress_path -c:v hevc_nvenc -rc vbr -cq $constant_quality -qmin $constant_quality -qmax $constant_quality -b:v 0 $compress_path$outputStr \n",
        "\n",
        "#@markdown Default `constant_quality` is `27`, which scrunched a 500mb 40 min video into ~200mb. Higher values = lower filesize, lower quality\n",
        "\n",
        "#@markdown Note: Your output will look like `original_2x_60fps.mp4__x265-converted.mp4` and can be found in your `compress_path`."
      ],
      "execution_count": null,
      "outputs": []
    }
  ]
}