{
  "nbformat": 4,
  "nbformat_minor": 0,
  "metadata": {
    "colab": {
      "name": "AnimationKit_Rife-RealESRGAN_Upscaling-Interpolation",
      "provenance": [],
      "collapsed_sections": [],
      "machine_shape": "hm",
      "include_colab_link": true
    },
    "kernelspec": {
      "name": "python3",
      "display_name": "Python 3"
    },
    "language_info": {
      "name": "python"
    },
    "accelerator": "GPU"
  },
  "cells": [
    {
      "cell_type": "markdown",
      "metadata": {
        "id": "view-in-github",
        "colab_type": "text"
      },
      "source": [
        "<a href=\"https://colab.research.google.com/github/sadnow/RIFE-Google-Colab-Simplified/blob/main/AnimationKit_Rife_RealESRGAN_Upscaling_Interpolation.ipynb\" target=\"_parent\"><img src=\"https://colab.research.google.com/assets/colab-badge.svg\" alt=\"Open In Colab\"/></a>"
      ]
    },
    {
      "cell_type": "markdown",
      "metadata": {
        "id": "CppIQlPhhwhs"
      },
      "source": [
        "# AnimationKit - Upscaling & Interpolation using Real-ESRGAN+RIFE\n",
        "\n",
        "Credits: Motion smoothing conceived from \"Zoom animation processing and motion interpolation\" added by https://twitter.com/unltd_dream_co. This part of the script uses [RIFE real-time video interpolation](https://github.com/hzwer/arXiv2020-RIFE) to smooth out the resulting video. \n",
        "\n",
        "Upscaling uses Real-ESRGAN (https://github.com/xinntao/Real-ESRGAN). A demo notebook for static images can be found here: https://colab.research.google.com/drive/1k2Zod6kSHEvraybHl50Lys0LerhyTMCo?usp=sharing. The demo was based on the following paper: of our paper [''Real-ESRGAN: Training Real-World Blind Super-Resolution with Pure Synthetic Data''](https://arxiv.org/abs/2107.10833).\n",
        "\n",
        "<img src=\"https://raw.githubusercontent.com/xinntao/Real-ESRGAN/master/assets/teaser.jpg\" width=\"100%\">\n",
        "\n",
        "Special thanks to @sportsracer48 and everyone on his Discord. If you want closed beta access to the best VQGAN animation notebook on the planet, check out https://www.patreon.com/sportsracer48"
      ]
    },
    {
      "cell_type": "code",
      "metadata": {
        "id": "VA1PHoJrRiK9",
        "cellView": "form"
      },
      "source": [
        "# @title Licensed under the MIT License\n",
        "\n",
        "# Copyright (c) 2021 Katherine Crowson\n",
        "\n",
        "# Permission is hereby granted, free of charge, to any person obtaining a copy\n",
        "# of this software and associated documentation files (the \"Software\"), to deal\n",
        "# in the Software without restriction, including without limitation the rights\n",
        "# to use, copy, modify, merge, publish, distribute, sublicense, and/or sell\n",
        "# copies of the Software, and to permit persons to whom the Software is\n",
        "# furnished to do so, subject to the following conditions:\n",
        "\n",
        "# The above copyright notice and this permission notice shall be included in\n",
        "# all copies or substantial portions of the Software.\n",
        "\n",
        "# THE SOFTWARE IS PROVIDED \"AS IS\", WITHOUT WARRANTY OF ANY KIND, EXPRESS OR\n",
        "# IMPLIED, INCLUDING BUT NOT LIMITED TO THE WARRANTIES OF MERCHANTABILITY,\n",
        "# FITNESS FOR A PARTICULAR PURPOSE AND NONINFRINGEMENT. IN NO EVENT SHALL THE\n",
        "# AUTHORS OR COPYRIGHT HOLDERS BE LIABLE FOR ANY CLAIM, DAMAGES OR OTHER\n",
        "# LIABILITY, WHETHER IN AN ACTION OF CONTRACT, TORT OR OTHERWISE, ARISING FROM,\n",
        "# OUT OF OR IN CONNECTION WITH THE SOFTWARE OR THE USE OR OTHER DEALINGS IN\n",
        "# THE SOFTWARE."
      ],
      "execution_count": null,
      "outputs": []
    },
    {
      "cell_type": "markdown",
      "metadata": {
        "id": "xNsqYx5tEBo5"
      },
      "source": [
        "# Mount Google Drive & Install Libraries"
      ]
    },
    {
      "cell_type": "code",
      "metadata": {
        "id": "4hULXQndE4xk"
      },
      "source": [
        "from google.colab import drive\n",
        "drive.mount('/content/drive')\n",
        "\n",
        "#install dependencies\n",
        "\n",
        "############# Clone Real-ESRGAN and enter the Real-ESRGAN\n",
        "print(\"Installing libraries for Real-ESRGAN upscaling.\")\n",
        "%cd /content/\n",
        "!git clone https://github.com/xinntao/Real-ESRGAN.git\n",
        "%cd Real-ESRGAN\n",
        "# Set up the environment\n",
        "!pip install basicsr\n",
        "!pip install facexlib\n",
        "!pip install gfpgan\n",
        "!pip install -r requirements.txt\n",
        "!python setup.py develop\n",
        "# Download the pre-trained model\n",
        "!wget https://github.com/xinntao/Real-ESRGAN/releases/download/v0.1.0/RealESRGAN_x4plus.pth -P experiments/pretrained_models\n",
        "%cd /content/\n",
        "print(\"Finished Installing libraries for Real-ESRGAN upscaling.\")\n",
        "#############\n",
        "#############\n",
        "%cd /content/\n",
        "print(\"Installing libraries for motion smoothing.\")\n",
        "!git clone https://github.com/hzwer/arXiv2020-RIFE RIFE\n",
        "!gdown --id 1wsQIhHZ3Eg4_AfCXItFKqqyDMB4NS0Yd\n",
        "!7z e RIFE_trained_model_HDv2.zip\n",
        "!mkdir /content/RIFE/train_log\n",
        "!mv *.pkl /content/RIFE/train_log/\n",
        "%cd /content/RIFE/\n",
        "!gdown --id 1i3xlKb7ax7Y70khcTcuePi6E7crO_dFc\n",
        "!pip3 install -r requirements.txt\n",
        "%cd /content/\n",
        "print(\"Done.\")\n",
        "%cd /content/RIFE/\n",
        "print(\"Finsihed Installing libraries for motion smoothing.\")\n",
        "%cd /content/\n",
        "#############\n",
        "!pip install ffmpeg-python\n"
      ],
      "execution_count": null,
      "outputs": []
    },
    {
      "cell_type": "markdown",
      "metadata": {
        "id": "KV9nAUYYVFJ6"
      },
      "source": [
        "# Real-ESRGAN Video Upscaling\n"
      ]
    },
    {
      "cell_type": "code",
      "metadata": {
        "id": "1btstt8EU-wQ"
      },
      "source": [
        "%cd /content/\n",
        "#frame_rate = \"23.976\" #@param {type:\"string\"}\n",
        "#start_time = \"00:00:00.000\"\n",
        "#end_time = \"00:00:05.000\" #@param {type:\"string\"}\n",
        "video_file_path='/content/drive/MyDrive/VQLIPSE/videos/2uncleIroh.mp4' #@param {type:\"string\"}\n",
        "target_path='/content/drive/MyDrive/VQLIPSE/videos/2uncleIroh-upscaled.mp4' #@param {type:\"string\"}\n",
        "target_fps='24'#@param {type:\"string\"}\n",
        "scale_value=\"3.5\" #@param {type:\"string\"}\n",
        "#@markdown Default `scale_value` is either 3.5 or 4\n",
        "\n",
        "#@markdown Run RIFE below to fill in empty frames.\n",
        "#@markdown Upscaled video saved as `/content/output.mp4`\n",
        "\n",
        "######Extract Individual frames\n",
        "#* [*Example*](https://yuju.pw/y/36pP.png) *of output folder*\n",
        "import os, sys, re\n",
        "output_file_path = re.search(\"^[\\/].+\\/\", video_file_path)\n",
        "output_file_path_raw = output_file_path.group(0)\n",
        "delsplit = re.search(\"\\/(?:.(?!\\/))+$\", video_file_path)\n",
        "filename = re.sub(\"^[\\/]\", \"\", delsplit.group(0))\n",
        "filename_raw = re.sub(\".{4}$\", \"\", filename)\n",
        "file_extension = re.search(\".{3}$\", filename)\n",
        "file_extension_raw = file_extension.group(0)\n",
        "\n",
        "os.environ['inputFile'] = video_file_path\n",
        "os.environ['outputPath'] = output_file_path_raw\n",
        "#os.environ['startTime'] = start_time\n",
        "#os.environ['endTime'] = end_time\n",
        "os.environ['frameRate'] = target_fps\n",
        "os.environ['fileName'] = filename_raw\n",
        "os.environ['fileExtension'] = file_extension_raw\n",
        "\n",
        "###################split frames\n",
        "!mkdir \"/content/Real-ESRGAN/upload\"\n",
        "!ffmpeg -hide_banner -i \"$inputFile\" -r \"$frameRate\"/1 \"/content/Real-ESRGAN/upload\"/frame%04d.png\n",
        "#!ffmpeg -hide_banner -i \"$inputFile\" -r \"$frameRate\"/1 \"/content/Real-ESRGAN/upload\"/frame%04d.png\n",
        "#!ffmpeg -hide_banner -i \"$inputFile\" -ss \"$startTime\" -to \"$endTime\" -r \"$frameRate\"/1 \"$outputPath\"/\"Extracted Frames\"/frame%04d.png\n",
        "####################\n",
        "\n",
        "\n",
        "#upload images\n",
        "import os\n",
        "from google.colab import files\n",
        "import shutil\n",
        "\n",
        "upload_folder = 'upload'\n",
        "result_folder = 'results'\n",
        "\n",
        "if os.path.isdir(upload_folder):\n",
        "    shutil.rmtree(upload_folder)\n",
        "if os.path.isdir(result_folder):\n",
        "    shutil.rmtree(result_folder)\n",
        "os.mkdir(upload_folder)\n",
        "os.mkdir(result_folder)\n",
        "\n",
        "\n",
        "\n",
        "\n",
        "###########run upscaler\n",
        "%cd /content/Real-ESRGAN\n",
        "#!python inference_realesrgan.py --model_path experiments/pretrained_models/RealESRGAN_x4plus.pth --input upload --netscale $scale_value --outscale $scale_value --half --face_enhance\n",
        "!python inference_realesrgan.py --model_path experiments/pretrained_models/RealESRGAN_x4plus.pth --input upload --netscale $scale_value --outscale $scale_value --half --face_enhance\n",
        "\n",
        "##########\n",
        "\n",
        "######re-encode video from frames\n",
        "%cd /content/Real-ESRGAN/results\n",
        "#!ffmpeg -r 1/5 -pattern_type glob -i '*.png' -c:v libx264 /content/output.mp4   # x264 video\n",
        "!ffmpeg -r $target_fps -pattern_type glob -i '*.png' -c:v libx264 $target_path   # x264 video\n",
        "\n"
      ],
      "execution_count": null,
      "outputs": []
    },
    {
      "cell_type": "markdown",
      "metadata": {
        "id": "kWROu0EAbY5z"
      },
      "source": [
        "# Motion interpolation (RIFE Smoothing)\n",
        "\n",
        "\"(...) (O)utput can be a bit wobbly, so video interpolation can be used to smooth things out a bit.\"\n"
      ]
    },
    {
      "cell_type": "code",
      "metadata": {
        "id": "DjW8fRm6dQ08",
        "cellView": "form"
      },
      "source": [
        "%cd /content/RIFE/\n",
        "# @title Settings\n",
        "input_path='/content/output.mp4' #@param {type:\"string\"}\n",
        "#target_fps=360#@param {type:\"raw\"}\n",
        "length_multiplier=2#@param {type:\"integer\"}\n",
        "#@markdown\n",
        "#@markdown `length_multiplier` might double, triple, or quadruple your video. Or square it? It's mysterious.\n",
        "#@markdown\n",
        "#@markdown ---\n",
        "#@markdown Note: Your output will look like `original_2x_60fps.mp4` and can be found in your `input_path`.\n",
        "#@markdown\n",
        "#@markdown Tip: Save as a high FPS (eg 999) if you plan on doing heavy editing (that way you don't need to re-process at the end.)\n",
        "\n",
        "!python3 /content/RIFE/inference_video.py --fps=$target_fps --exp=$length_multiplier --video=$input_path --skip\n",
        "%cd /content/"
      ],
      "execution_count": null,
      "outputs": []
    },
    {
      "cell_type": "markdown",
      "metadata": {
        "id": "xEf2rinzX4Au"
      },
      "source": [
        "# x265 Conversion/Compression (Experimental, Very Fast)\n",
        "\n",
        "Sort of like Handbrake - good for large filesizes. Can turn 500mb files into 200mb files with negligable quality loss.\n",
        "\n",
        "**Note: You manually need to input your desired compress_path (sorry) - will update this in the future w/ a checkbox to automatically determine your outputted interpolated file.**"
      ]
    },
    {
      "cell_type": "code",
      "metadata": {
        "id": "mx62Rw1tasS7",
        "cellView": "form"
      },
      "source": [
        "compress_path='/content/drive/MyDrive/VQLIPSE/videos/output_2X_60fps.mp4' #@param {type:\"string\"}\n",
        "outputStr = '_x265-converted.mp4'\n",
        "constant_quality=26#@param {type:\"slider\", min:20, max:50, step:1}\n",
        "\n",
        "\n",
        "#!ffmpeg -i $compress_path -vcodec hevc_nvenc -rc:v vbr_hq -cq $constant_quality $compress_path$outputStr -async 1 -vsync 1\n",
        "!ffmpeg -i $compress_path -c:v hevc_nvenc -rc vbr -cq $constant_quality -qmin $constant_quality -qmax $constant_quality -b:v 0 $compress_path$outputStr \n",
        "\n",
        "#@markdown Default `constant_quality` is `27`, which scrunched a 500mb 40 min video into ~200mb. Higher values = lower filesize, lower quality\n",
        "\n",
        "#@markdown Note: Your output will look like `original_2x_60fps.mp4__x265-converted.mp4` and can be found in your `compress_path`."
      ],
      "execution_count": null,
      "outputs": []
    }
  ]
}