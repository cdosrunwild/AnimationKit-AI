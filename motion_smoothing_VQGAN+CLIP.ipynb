{
  "nbformat": 4,
  "nbformat_minor": 0,
  "metadata": {
    "colab": {
      "name": "motion smoothing VQGAN+CLIP",
      "private_outputs": true,
      "provenance": [],
      "collapsed_sections": [],
      "machine_shape": "hm",
      "include_colab_link": true
    },
    "kernelspec": {
      "name": "python3",
      "display_name": "Python 3"
    },
    "language_info": {
      "name": "python"
    },
    "accelerator": "GPU"
  },
  "cells": [
    {
      "cell_type": "markdown",
      "metadata": {
        "id": "view-in-github",
        "colab_type": "text"
      },
      "source": [
        "<a href=\"https://colab.research.google.com/github/sadnow/RIFE-Google-Colab-Simplified/blob/main/motion_smoothing_VQGAN%2BCLIP.ipynb\" target=\"_parent\"><img src=\"https://colab.research.google.com/assets/colab-badge.svg\" alt=\"Open In Colab\"/></a>"
      ]
    },
    {
      "cell_type": "markdown",
      "metadata": {
        "id": "CppIQlPhhwhs"
      },
      "source": [
        "# Simplified RIFE Motion Smoothing (Trimmed for this speific use by sadnow)\n",
        "\n",
        "For whatever reason this one makes the best motion smoothing with minimal messing around with setings.\n",
        "\n",
        "Original script based on \"Zoom animation processing and motion interpolation\" added by https://twitter.com/unltd_dream_co. Trimmed most of it out becuase I don't use the other parts.\n",
        "\n",
        "This script uses [RIFE real-time video interpolation](https://github.com/hzwer/arXiv2020-RIFE) to smooth out the resulting video."
      ]
    },
    {
      "cell_type": "code",
      "metadata": {
        "id": "VA1PHoJrRiK9",
        "cellView": "form"
      },
      "source": [
        "# @title Licensed under the MIT License\n",
        "\n",
        "# Copyright (c) 2021 Katherine Crowson\n",
        "\n",
        "# Permission is hereby granted, free of charge, to any person obtaining a copy\n",
        "# of this software and associated documentation files (the \"Software\"), to deal\n",
        "# in the Software without restriction, including without limitation the rights\n",
        "# to use, copy, modify, merge, publish, distribute, sublicense, and/or sell\n",
        "# copies of the Software, and to permit persons to whom the Software is\n",
        "# furnished to do so, subject to the following conditions:\n",
        "\n",
        "# The above copyright notice and this permission notice shall be included in\n",
        "# all copies or substantial portions of the Software.\n",
        "\n",
        "# THE SOFTWARE IS PROVIDED \"AS IS\", WITHOUT WARRANTY OF ANY KIND, EXPRESS OR\n",
        "# IMPLIED, INCLUDING BUT NOT LIMITED TO THE WARRANTIES OF MERCHANTABILITY,\n",
        "# FITNESS FOR A PARTICULAR PURPOSE AND NONINFRINGEMENT. IN NO EVENT SHALL THE\n",
        "# AUTHORS OR COPYRIGHT HOLDERS BE LIABLE FOR ANY CLAIM, DAMAGES OR OTHER\n",
        "# LIABILITY, WHETHER IN AN ACTION OF CONTRACT, TORT OR OTHERWISE, ARISING FROM,\n",
        "# OUT OF OR IN CONNECTION WITH THE SOFTWARE OR THE USE OR OTHER DEALINGS IN\n",
        "# THE SOFTWARE."
      ],
      "execution_count": null,
      "outputs": []
    },
    {
      "cell_type": "markdown",
      "metadata": {
        "id": "xNsqYx5tEBo5"
      },
      "source": [
        "# Mount Google Drive (Optional)"
      ]
    },
    {
      "cell_type": "code",
      "metadata": {
        "id": "db5paOth98kA"
      },
      "source": [
        "from google.colab import drive\n",
        "drive.mount('/content/drive')"
      ],
      "execution_count": null,
      "outputs": []
    },
    {
      "cell_type": "markdown",
      "metadata": {
        "id": "kWROu0EAbY5z"
      },
      "source": [
        "# Optional motion interpolation\n",
        "\n",
        "\"(...) (O)utput can be a bit wobbly, so video interpolation can be used to smooth things out a bit.\"\n",
        "\n",
        "**There is only one line you need to edit.**\n",
        "\n",
        "Edit the path to point to your google drive video\n",
        "\n",
        "*   Edit \"--video\" path to point to your desired input video.\n",
        "*   Edit \"fps\" to pick your desired frames/second.\n",
        "*   Edit \"exp\" to do 2x length, 4x, 8x, etc.\n",
        "\n",
        "# Example of how you would edit the line: \n",
        "*!python3 /content/RIFE/inference_video.py --fps=60 --exp=2 --video=/content/drive/MyDrive/VQLIPSE/videos/your_input_video.mp4 --skip*\n",
        "\n",
        "**HUGE NOTICE: Re-run the same command again to double the length of your video! You don't even have to change any of the settings once you do the first run.**\n",
        "\n",
        "I will update this with a basic UI if/once I figure out forms~\n",
        "\n"
      ]
    },
    {
      "cell_type": "code",
      "metadata": {
        "id": "DjW8fRm6dQ08"
      },
      "source": [
        "print(\"Installing libraries for motion smoothing.\")\n",
        "!git clone https://github.com/hzwer/arXiv2020-RIFE RIFE\n",
        "!gdown --id 1wsQIhHZ3Eg4_AfCXItFKqqyDMB4NS0Yd\n",
        "!7z e RIFE_trained_model_HDv2.zip\n",
        "!mkdir /content/RIFE/train_log\n",
        "!mv *.pkl /content/RIFE/train_log/\n",
        "%cd /content/RIFE/\n",
        "!gdown --id 1i3xlKb7ax7Y70khcTcuePi6E7crO_dFc\n",
        "!pip3 install -r requirements.txt\n",
        "%cd /content/\n",
        "print(\"Done.\")\n",
        "%cd /content/RIFE/\n",
        "!python3 /content/RIFE/inference_video.py --fps=60 --exp=2 --video=/content/drive/MyDrive/VQLIPSE/videos/your_input_video.mp4 --skip\n",
        "%cd /content/"
      ],
      "execution_count": null,
      "outputs": []
    },
    {
      "cell_type": "markdown",
      "metadata": {
        "id": "HqeGyzclHNVq"
      },
      "source": [
        "# How to View the Output\n",
        "\n",
        "Go to your Google Drive and you will find the output in the same folder "
      ]
    }
  ]
}