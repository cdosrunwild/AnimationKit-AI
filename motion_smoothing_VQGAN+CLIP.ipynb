{
  "nbformat": 4,
  "nbformat_minor": 0,
  "metadata": {
    "colab": {
      "name": "compression-added_motion smoothing VQGAN+CLIP",
      "provenance": [],
      "collapsed_sections": [],
      "machine_shape": "hm",
      "include_colab_link": true
    },
    "kernelspec": {
      "name": "python3",
      "display_name": "Python 3"
    },
    "language_info": {
      "name": "python"
    },
    "accelerator": "GPU"
  },
  "cells": [
    {
      "cell_type": "markdown",
      "metadata": {
        "id": "view-in-github",
        "colab_type": "text"
      },
      "source": [
        "<a href=\"https://colab.research.google.com/github/sadnow/RIFE-Google-Colab-Simplified/blob/main/motion_smoothing_VQGAN%2BCLIP.ipynb\" target=\"_parent\"><img src=\"https://colab.research.google.com/assets/colab-badge.svg\" alt=\"Open In Colab\"/></a>"
      ]
    },
    {
      "cell_type": "markdown",
      "metadata": {
        "id": "CppIQlPhhwhs"
      },
      "source": [
        "# Simplified RIFE Motion Smoothing (Trimmed for this speific use by sadnow)\n",
        "\n",
        "For whatever reason this one makes the best motion smoothing with minimal messing around with setings.\n",
        "\n",
        "Credits: Original script based on \"Zoom animation processing and motion interpolation\" added by https://twitter.com/unltd_dream_co. Trimmed most of it out becuase I don't use the other parts.\n",
        "\n",
        "Resources: Compression added from advice at https://unix.stackexchange.com/questions/28803/how-can-i-reduce-a-videos-size-with-ffmpeg as well as from https://stackoverflow.com/questions/61147016/concatenate-command-string-in-a-shell-script-in-google-colab \n",
        "\n",
        "This script uses [RIFE real-time video interpolation](https://github.com/hzwer/arXiv2020-RIFE) to smooth out the resulting video.\n",
        "\n",
        "Special thanks to @sportsracer48 and everyone on his Discord. If you want closed beta access to the best VQGAN animation notebook on the planet, check out https://www.patreon.com/sportsracer48"
      ]
    },
    {
      "cell_type": "code",
      "metadata": {
        "id": "VA1PHoJrRiK9",
        "cellView": "form"
      },
      "source": [
        "# @title Licensed under the MIT License\n",
        "\n",
        "# Copyright (c) 2021 Katherine Crowson\n",
        "\n",
        "# Permission is hereby granted, free of charge, to any person obtaining a copy\n",
        "# of this software and associated documentation files (the \"Software\"), to deal\n",
        "# in the Software without restriction, including without limitation the rights\n",
        "# to use, copy, modify, merge, publish, distribute, sublicense, and/or sell\n",
        "# copies of the Software, and to permit persons to whom the Software is\n",
        "# furnished to do so, subject to the following conditions:\n",
        "\n",
        "# The above copyright notice and this permission notice shall be included in\n",
        "# all copies or substantial portions of the Software.\n",
        "\n",
        "# THE SOFTWARE IS PROVIDED \"AS IS\", WITHOUT WARRANTY OF ANY KIND, EXPRESS OR\n",
        "# IMPLIED, INCLUDING BUT NOT LIMITED TO THE WARRANTIES OF MERCHANTABILITY,\n",
        "# FITNESS FOR A PARTICULAR PURPOSE AND NONINFRINGEMENT. IN NO EVENT SHALL THE\n",
        "# AUTHORS OR COPYRIGHT HOLDERS BE LIABLE FOR ANY CLAIM, DAMAGES OR OTHER\n",
        "# LIABILITY, WHETHER IN AN ACTION OF CONTRACT, TORT OR OTHERWISE, ARISING FROM,\n",
        "# OUT OF OR IN CONNECTION WITH THE SOFTWARE OR THE USE OR OTHER DEALINGS IN\n",
        "# THE SOFTWARE."
      ],
      "execution_count": null,
      "outputs": []
    },
    {
      "cell_type": "markdown",
      "metadata": {
        "id": "xNsqYx5tEBo5"
      },
      "source": [
        "# Mount Google Drive (Optional)"
      ]
    },
    {
      "cell_type": "code",
      "metadata": {
        "id": "db5paOth98kA"
      },
      "source": [
        "from google.colab import drive\n",
        "drive.mount('/content/drive')"
      ],
      "execution_count": null,
      "outputs": []
    },
    {
      "cell_type": "markdown",
      "metadata": {
        "id": "kWROu0EAbY5z"
      },
      "source": [
        "# Motion interpolation (RIFE Smoothing)\n",
        "\n",
        "\"(...) (O)utput can be a bit wobbly, so video interpolation can be used to smooth things out a bit.\"\n"
      ]
    },
    {
      "cell_type": "code",
      "metadata": {
        "id": "DjW8fRm6dQ08",
        "cellView": "form"
      },
      "source": [
        "print(\"Installing libraries for motion smoothing.\")\n",
        "!git clone https://github.com/hzwer/arXiv2020-RIFE RIFE\n",
        "!gdown --id 1wsQIhHZ3Eg4_AfCXItFKqqyDMB4NS0Yd\n",
        "!7z e RIFE_trained_model_HDv2.zip\n",
        "!mkdir /content/RIFE/train_log\n",
        "!mv *.pkl /content/RIFE/train_log/\n",
        "%cd /content/RIFE/\n",
        "!gdown --id 1i3xlKb7ax7Y70khcTcuePi6E7crO_dFc\n",
        "!pip3 install -r requirements.txt\n",
        "%cd /content/\n",
        "print(\"Done.\")\n",
        "%cd /content/RIFE/\n",
        "print(\"Installing libraries for motion smoothing.\")\n",
        "# @title Settings\n",
        "input_path='/content/drive/MyDrive/VQLIPSE/videos/original.mp4' #@param {type:\"string\"}\n",
        "target_fps=60#@param {type:\"raw\"}\n",
        "length_multiplier=2#@param {type:\"integer\"}\n",
        "#@markdown\n",
        "#@markdown `length_multiplier` might double, triple, or quadruple your video. Or square it? It's mysterious.\n",
        "#@markdown\n",
        "#@markdown ---\n",
        "#@markdown Note: Your output will look like `original_2x_60fps.mp4` and can be found in your `input_path`.\n",
        "#@markdown\n",
        "#@markdown Tip: Save as a high FPS (eg 999) if you plan on doing heavy editing (that way you don't need to re-process at the end.)\n",
        "\n",
        "!python3 /content/RIFE/inference_video.py --fps=$target_fps --exp=$length_multiplier --video=$input_path --skip\n",
        "%cd /content/"
      ],
      "execution_count": null,
      "outputs": []
    },
    {
      "cell_type": "markdown",
      "metadata": {
        "id": "xEf2rinzX4Au"
      },
      "source": [
        "# x265 Conversion/Compression (Experimental, Very Fast)\n",
        "\n",
        "Sort of like Handbrake - good for large filesizes. Can turn 500mb files into 200mb files with negligable quality loss.\n",
        "\n",
        "**Note: You manually need to input your desired compress_path (sorry) - will update this in the future w/ a checkbox to automatically determine your outputted interpolated file.**"
      ]
    },
    {
      "cell_type": "code",
      "metadata": {
        "id": "mx62Rw1tasS7",
        "cellView": "form"
      },
      "source": [
        "compress_path='/content/drive/MyDrive/VQLIPSE/videos/original_2x_60fps.mp4' #@param {type:\"string\"}\n",
        "outputStr = '_x265-converted.mp4'\n",
        "constant_quality=27#@param {type:\"slider\", min:20, max:50, step:1}\n",
        "\n",
        "!pip install ffmpeg-python\n",
        "#!ffmpeg -i $compress_path -vcodec hevc_nvenc -rc:v vbr_hq -cq $constant_quality $compress_path$outputStr -async 1 -vsync 1\n",
        "!ffmpeg -i $compress_path -c:v hevc_nvenc -rc vbr -cq $constant_quality -qmin $constant_quality -qmax $constant_quality -b:v 0 $compress_path$outputStr \n",
        "\n",
        "#@markdown Default `constant_quality` is `27`, which scrunched a 500mb 40 min video into ~200mb. Higher values = lower filesize, lower quality\n",
        "\n",
        "#@markdown Note: Your output will look like `original_2x_60fps.mp4__x265-converted.mp4` and can be found in your `compress_path`."
      ],
      "execution_count": null,
      "outputs": []
    }
  ]
}